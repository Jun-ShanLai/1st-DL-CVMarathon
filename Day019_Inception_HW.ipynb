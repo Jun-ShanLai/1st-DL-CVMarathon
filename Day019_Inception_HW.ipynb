{
 "cells": [
  {
   "cell_type": "markdown",
   "metadata": {},
   "source": [
    "## 『本次練習內容』\n",
    "#### 學習如何搭建Inception Block"
   ]
  },
  {
   "cell_type": "markdown",
   "metadata": {},
   "source": [
    "## 『本次練習目的』\n",
    "  #### 了解Inceotion原理\n",
    "  #### 了解如何導入Inception block到原本架構中"
   ]
  },
  {
   "cell_type": "markdown",
   "metadata": {},
   "source": [
    "---"
   ]
  },
  {
   "cell_type": "markdown",
   "metadata": {},
   "source": [
    "![Incpeiton](Inception__.png)"
   ]
  },
  {
   "cell_type": "code",
   "execution_count": 1,
   "metadata": {},
   "outputs": [
    {
     "name": "stderr",
     "output_type": "stream",
     "text": [
      "Using TensorFlow backend.\n",
      "WARNING: Logging before flag parsing goes to stderr.\n",
      "W1219 15:09:31.590187  2264 __init__.py:308] Limited tf.compat.v2.summary API due to missing TensorBoard installation.\n"
     ]
    }
   ],
   "source": [
    "import numpy as np\n",
    "from keras.models import Model\n",
    "from keras.layers import Flatten\n",
    "from keras.layers import Dense\n",
    "from keras.layers import Input\n",
    "from keras.layers import Conv2D\n",
    "from keras.layers import MaxPooling2D\n",
    "from keras.layers import GlobalMaxPooling2D\n",
    "from keras.layers import GlobalAveragePooling2D\n",
    "from keras import backend as K\n",
    "from keras import layers\n",
    "from keras.layers import BatchNormalization\n",
    "from keras.layers import Activation"
   ]
  },
  {
   "cell_type": "markdown",
   "metadata": {},
   "source": [
    "## 導入InceptionV2-有BatchNormalization的Convolution"
   ]
  },
  {
   "cell_type": "code",
   "execution_count": 2,
   "metadata": {},
   "outputs": [],
   "source": [
    "def Conv2d_bn(x,filters,kernel_size,padding='same',strides=(1, 1),normalizer=True,activation='relu',name=None):\n",
    "    if name is not None:\n",
    "        conv_name = name + '_conv'\n",
    "        bn_name = name + '_bn'\n",
    "        act_name = name + '_act'\n",
    "    else:\n",
    "        conv_name = None\n",
    "        bn_name = None\n",
    "        act_name = None\n",
    "    if K.image_data_format() == 'channels_first':\n",
    "        bn_axis = 1\n",
    "    else:\n",
    "        bn_axis = 3\n",
    "    x = Conv2D(\n",
    "            filters, kernel_size,\n",
    "            strides=strides, padding=padding,\n",
    "            use_bias=False, name=conv_name)(x)\n",
    "    if normalizer:\n",
    "        x = BatchNormalization(axis=bn_axis, scale=False, name=bn_name)(x)\n",
    "    if activation:\n",
    "        x = Activation(activation, name=act_name)(x)\n",
    "    return x"
   ]
  },
  {
   "cell_type": "markdown",
   "metadata": {},
   "source": [
    "## 參考上圖搭建 InceptionV1_block"
   ]
  },
  {
   "cell_type": "code",
   "execution_count": 3,
   "metadata": {},
   "outputs": [],
   "source": [
    "def InceptionV1_block(x, specs,channel_axis, name):\n",
    "    (br0, br1, br2, br3) = specs   # ((64,), (96,128), (16,32), (32,))\n",
    "    branch_0 = Conv2d_bn(x, br0[0], (1, 1), name=name+\"_Branch_0\")\n",
    "\n",
    "    branch_1 = Conv2d_bn(x, br1[0], (1, 1), name=name+\"_Branch_1\")\n",
    "    branch_1 = Conv2d_bn(branch_1, br1[1], (3, 3), name=name+\"_Branch_1_1\")\n",
    "\n",
    "    '''Branch_2'''\n",
    "    branch_2 = Conv2d_bn(x, br2[0], (1, 1), name=name+\"_Branch_2\")\n",
    "    branch_2 = Conv2d_bn(branch_2, br2[1], (5, 5), name=name+\"_Branch_2_1\")\n",
    "\n",
    "    '''Branch_3'''\n",
    "    branch_3 = MaxPooling2D(pool_size=(3,3), strides=(1,1), padding='same', name=name+\"_Branch_3\")(x)\n",
    "    branch_3 = Conv2d_bn(branch_3, br3[0], (1, 1), name=name+\"_Branch_3_1\")\n",
    "\n",
    "    \n",
    "    x = layers.concatenate(\n",
    "        [branch_0, branch_1, branch_2, branch_3],\n",
    "        axis=channel_axis,\n",
    "        name=name+\"_Concatenated\")\n",
    "    return x"
   ]
  },
  {
   "cell_type": "markdown",
   "metadata": {},
   "source": [
    "## 測試"
   ]
  },
  {
   "cell_type": "code",
   "execution_count": 4,
   "metadata": {},
   "outputs": [
    {
     "name": "stderr",
     "output_type": "stream",
     "text": [
      "W1219 15:09:31.809692  2264 deprecation_wrapper.py:119] From C:\\Users\\user\\Anaconda3\\envs\\Tesseract\\lib\\site-packages\\keras\\backend\\tensorflow_backend.py:74: The name tf.get_default_graph is deprecated. Please use tf.compat.v1.get_default_graph instead.\n",
      "\n",
      "W1219 15:09:31.820662  2264 deprecation_wrapper.py:119] From C:\\Users\\user\\Anaconda3\\envs\\Tesseract\\lib\\site-packages\\keras\\backend\\tensorflow_backend.py:517: The name tf.placeholder is deprecated. Please use tf.compat.v1.placeholder instead.\n",
      "\n",
      "W1219 15:09:31.821659  2264 deprecation_wrapper.py:119] From C:\\Users\\user\\Anaconda3\\envs\\Tesseract\\lib\\site-packages\\keras\\backend\\tensorflow_backend.py:4138: The name tf.random_uniform is deprecated. Please use tf.random.uniform instead.\n",
      "\n",
      "W1219 15:09:31.833627  2264 deprecation_wrapper.py:119] From C:\\Users\\user\\Anaconda3\\envs\\Tesseract\\lib\\site-packages\\keras\\backend\\tensorflow_backend.py:174: The name tf.get_default_session is deprecated. Please use tf.compat.v1.get_default_session instead.\n",
      "\n",
      "W1219 15:09:31.833627  2264 deprecation_wrapper.py:119] From C:\\Users\\user\\Anaconda3\\envs\\Tesseract\\lib\\site-packages\\keras\\backend\\tensorflow_backend.py:181: The name tf.ConfigProto is deprecated. Please use tf.compat.v1.ConfigProto instead.\n",
      "\n",
      "W1219 15:09:32.565632  2264 deprecation_wrapper.py:119] From C:\\Users\\user\\Anaconda3\\envs\\Tesseract\\lib\\site-packages\\keras\\backend\\tensorflow_backend.py:1834: The name tf.nn.fused_batch_norm is deprecated. Please use tf.compat.v1.nn.fused_batch_norm instead.\n",
      "\n",
      "W1219 15:09:32.806004  2264 deprecation_wrapper.py:119] From C:\\Users\\user\\Anaconda3\\envs\\Tesseract\\lib\\site-packages\\keras\\backend\\tensorflow_backend.py:3976: The name tf.nn.max_pool is deprecated. Please use tf.nn.max_pool2d instead.\n",
      "\n"
     ]
    },
    {
     "name": "stdout",
     "output_type": "stream",
     "text": [
      "Tensor(\"Block_1_Concatenated/concat:0\", shape=(?, 224, 224, 256), dtype=float32)\n"
     ]
    }
   ],
   "source": [
    "img_input = Input(shape=(224,224,1))\n",
    "x = InceptionV1_block(img_input, ((64,), (96,128), (16,32), (32,)), 3, 'Block_1')\n",
    "print(x)"
   ]
  },
  {
   "cell_type": "markdown",
   "metadata": {},
   "source": [
    "## 將 InceptionV1_block中n*n卷積改為1 x n+n x 1"
   ]
  },
  {
   "cell_type": "code",
   "execution_count": 5,
   "metadata": {},
   "outputs": [],
   "source": [
    "def InceptionV3_block(x, specs,channel_axis, name):\n",
    "    (br0, br1, br2, br3) = specs   # ((64,), (96,128), (16,32), (32,))\n",
    "    branch_0 = Conv2d_bn(x, br0[0], (1, 1), name=name+\"_Branch_0\")\n",
    "\n",
    "    branch_1 = Conv2d_bn(x, br1[0], (1, 1), name=name+\"_Branch_1\")\n",
    "    branch_1 = Conv2d_bn(branch_1, br1[1], (1, 3), name=name+\"_Branch_1_1\")\n",
    "    branch_1 = Conv2d_bn(branch_1, br1[1], (3, 1), name=name+\"_Branch_1_2\")\n",
    "\n",
    "    '''Branch_2'''\n",
    "    branch_2 = Conv2d_bn(x, br2[0], (1, 1), name=name+\"_Branch_2\")\n",
    "    branch_2 = Conv2d_bn(branch_2, br2[1], (1, 3), name=name+\"_Branch_2_1\")\n",
    "    branch_2 = Conv2d_bn(branch_2, br2[1], (3, 1), name=name+\"_Branch_2_2\")\n",
    "    \n",
    "    '''Branch_3'''\n",
    "    branch_3 = MaxPooling2D(pool_size=(3,3), strides=(1,1), padding='same', name=name+\"_Branch_3\")(x)\n",
    "    branch_3 = Conv2d_bn(branch_3, br3[0], (1, 1), name=name+\"_Branch_3_1\")\n",
    "    \n",
    "    \n",
    "    x = layers.concatenate(\n",
    "        [branch_0, branch_1, branch_2, branch_3],\n",
    "        axis=channel_axis,\n",
    "        name=name+\"_Concatenated\")\n",
    "    return x"
   ]
  },
  {
   "cell_type": "markdown",
   "metadata": {},
   "source": [
    "## 測試"
   ]
  },
  {
   "cell_type": "code",
   "execution_count": 6,
   "metadata": {},
   "outputs": [
    {
     "name": "stdout",
     "output_type": "stream",
     "text": [
      "Tensor(\"Block_1_Concatenated_1/concat:0\", shape=(?, 224, 224, 256), dtype=float32)\n"
     ]
    }
   ],
   "source": [
    "img_input = Input(shape=(224,224,1))\n",
    "x=InceptionV3_block(img_input, ((64,), (96,128), (16,32), (32,)), 3, 'Block_1')\n",
    "print(x)"
   ]
  },
  {
   "cell_type": "markdown",
   "metadata": {},
   "source": [
    "---"
   ]
  },
  {
   "cell_type": "markdown",
   "metadata": {},
   "source": [
    "## 額外練習"
   ]
  },
  {
   "cell_type": "markdown",
   "metadata": {},
   "source": [
    "## 將VGG16 Block_3中的Convolution全部改為InceptionV1_block\n",
    "## Block_5中的Convolution全部改為InceptionV3_block\n",
    "## 並將所有Convolution改為Conv2d_bn"
   ]
  },
  {
   "cell_type": "markdown",
   "metadata": {},
   "source": [
    "#### 原vgg16架構"
   ]
  },
  {
   "cell_type": "code",
   "execution_count": 7,
   "metadata": {},
   "outputs": [],
   "source": [
    "\n",
    "\n",
    "def VGG16(include_top=True,input_tensor=None, input_shape=(224,224,1),\n",
    "          pooling='max',classes=1000):\n",
    " \n",
    "    img_input = Input(shape=input_shape)\n",
    "    \n",
    "\n",
    "    x = Conv2D(64, (3, 3), activation='relu', padding='same', name='block1_conv1')(img_input)\n",
    "    x = Conv2D(64, (3, 3), activation='relu', padding='same', name='block1_conv2')(x)\n",
    "    x = MaxPooling2D((2, 2), strides=(2, 2), name='block1_pool')(x)\n",
    "\n",
    "    # Block 2\n",
    "    x = Conv2D(128, (3, 3), activation='relu', padding='same', name='block2_conv1')(x)\n",
    "    x = Conv2D(128, (3, 3), activation='relu', padding='same', name='block2_conv2')(x)\n",
    "    x = MaxPooling2D((2, 2), strides=(2, 2), name='block2_pool')(x)\n",
    "\n",
    "    # Block 3\n",
    "    x = Conv2D(256, (3, 3), activation='relu', padding='same', name='block3_conv1')(x)\n",
    "    x = Conv2D(256, (3, 3), activation='relu', padding='same', name='block3_conv2')(x)\n",
    "    x = Conv2D(256, (3, 3), activation='relu', padding='same', name='block3_conv3')(x)\n",
    "    x = MaxPooling2D((2, 2), strides=(2, 2), name='block3_pool')(x)\n",
    "    \n",
    "\n",
    "    # Block 4\n",
    "    x = Conv2D(512, (3, 3), activation='relu', padding='same', name='block4_conv1')(x)\n",
    "    x = Conv2D(512, (3, 3), activation='relu', padding='same', name='block4_conv2')(x)\n",
    "    x = Conv2D(512, (3, 3), activation='relu', padding='same', name='block4_conv3')(x)\n",
    "    x = MaxPooling2D((2, 2), strides=(2, 2), name='block4_pool')(x)\n",
    "\n",
    "    # Block 5\n",
    "    x = Conv2D(512, (3, 3), activation='relu', padding='same', name='block5_conv1')(x)\n",
    "    x = Conv2D(512, (3, 3), activation='relu', padding='same', name='block5_conv2')(x)\n",
    "    x = Conv2D(512, (3, 3), activation='relu', padding='same', name='block5_conv3')(x)\n",
    "    x = MaxPooling2D((2, 2), strides=(2, 2), name='block5_pool')(x)\n",
    "\n",
    "    if include_top:\n",
    "        # Classification block\n",
    "        x = Flatten(name='flatten')(x)\n",
    "        x = Dense(4096, activation='relu', name='fc1')(x)\n",
    "        x = Dense(4096, activation='relu', name='fc2')(x)\n",
    "        x = Dense(classes, activation='softmax', name='predictions')(x)\n",
    "    else:\n",
    "        if pooling == 'avg':\n",
    "            x = GlobalAveragePooling2D()(x)\n",
    "        elif pooling == 'max':\n",
    "            x = GlobalMaxPooling2D()(x)\n",
    "\n",
    "    inputs = img_input\n",
    "    # Create model.\n",
    "    model = Model(inputs, x, name='vgg16')\n",
    "\n",
    "   \n",
    "    return model\n",
    "\n"
   ]
  },
  {
   "cell_type": "markdown",
   "metadata": {},
   "source": [
    "#### 修改後"
   ]
  },
  {
   "cell_type": "code",
   "execution_count": 8,
   "metadata": {},
   "outputs": [],
   "source": [
    "# 未完成\n",
    "\n",
    "'''\n",
    "\n",
    "def VGG16_Inception(include_top=True,input_tensor=None, input_shape=(224,224,1),\n",
    "          pooling='max',classes=1000):\n",
    " \n",
    "    #修改模型\n",
    "    img_input = Input(shape=input_shape)\n",
    "\n",
    "    x = Conv2D(64, (3, 3), activation='relu', padding='same', name='block1_conv1')(img_input)\n",
    "    x = Conv2D(64, (3, 3), activation='relu', padding='same', name='block1_conv2')(x)\n",
    "    x = MaxPooling2D((2, 2), strides=(2, 2), name='block1_pool')(x)\n",
    "\n",
    "    # Block 2\n",
    "    x = Conv2D(128, (3, 3), activation='relu', padding='same', name='block2_conv1')(x)\n",
    "    x = Conv2D(128, (3, 3), activation='relu', padding='same', name='block2_conv2')(x)\n",
    "    x = MaxPooling2D((2, 2), strides=(2, 2), name='block2_pool')(x)\n",
    "\n",
    "    # Block 3\n",
    "\n",
    "    x = InceptionV1_block(x, ((64,), (96,128), (16,32), (32,)), 3, 'Block_3')\n",
    "\n",
    "    # Block 4\n",
    "    x = Conv2D(512, (3, 3), activation='relu', padding='same', name='block4_conv1')(x)\n",
    "    x = Conv2D(512, (3, 3), activation='relu', padding='same', name='block4_conv2')(x)\n",
    "    x = Conv2D(512, (3, 3), activation='relu', padding='same', name='block4_conv3')(x)\n",
    "    x = MaxPooling2D((2, 2), strides=(2, 2), name='block4_pool')(x)\n",
    "\n",
    "    # Block 5\n",
    "    x=InceptionV3_block(x, ((64,), (96,128), (16,32), (32,)), 3, 'Block_5')\n",
    "\n",
    "    \n",
    "    \n",
    "    if include_top:\n",
    "        # Classification block\n",
    "        x = Flatten(name='flatten')(x)\n",
    "        x = Dense(4096, activation='relu', name='fc1')(x)\n",
    "        x = Dense(4096, activation='relu', name='fc2')(x)\n",
    "        x = Dense(classes, activation='softmax', name='predictions')(x)\n",
    "    else:\n",
    "        if pooling == 'avg':\n",
    "            x = GlobalAveragePooling2D()(x)\n",
    "        elif pooling == 'max':\n",
    "            x = GlobalMaxPooling2D()(x)\n",
    "\n",
    "    inputs = img_input\n",
    "    # Create model.\n",
    "    model = Model(inputs, x, name='vgg16')\n",
    "    \n",
    "    \n",
    "    \n",
    "    return model\n",
    "\n",
    "\n",
    "\n",
    "'''"
   ]
  },
  {
   "cell_type": "code",
   "execution_count": 9,
   "metadata": {},
   "outputs": [],
   "source": [
    "#model = VGG16_Inception(include_top=False)"
   ]
  },
  {
   "cell_type": "code",
   "execution_count": 10,
   "metadata": {},
   "outputs": [
    {
     "name": "stdout",
     "output_type": "stream",
     "text": [
      "__________________________________________________________________________________________________\n",
      "Layer (type)                    Output Shape         Param #     Connected to                     \n",
      "==================================================================================================\n",
      "input_3 (InputLayer)            (None, 224, 224, 1)  0                                            \n",
      "__________________________________________________________________________________________________\n",
      "block1_conv1 (Conv2D)           (None, 224, 224, 64) 640         input_3[0][0]                    \n",
      "__________________________________________________________________________________________________\n",
      "block1_conv2 (Conv2D)           (None, 224, 224, 64) 36928       block1_conv1[0][0]               \n",
      "__________________________________________________________________________________________________\n",
      "block1_pool (MaxPooling2D)      (None, 112, 112, 64) 0           block1_conv2[0][0]               \n",
      "__________________________________________________________________________________________________\n",
      "block2_conv1 (Conv2D)           (None, 112, 112, 128 73856       block1_pool[0][0]                \n",
      "__________________________________________________________________________________________________\n",
      "block2_conv2 (Conv2D)           (None, 112, 112, 128 147584      block2_conv1[0][0]               \n",
      "__________________________________________________________________________________________________\n",
      "block2_pool (MaxPooling2D)      (None, 56, 56, 128)  0           block2_conv2[0][0]               \n",
      "__________________________________________________________________________________________________\n",
      "Block_3_Branch_1_conv (Conv2D)  (None, 56, 56, 96)   12288       block2_pool[0][0]                \n",
      "__________________________________________________________________________________________________\n",
      "Block_3_Branch_2_conv (Conv2D)  (None, 56, 56, 16)   2048        block2_pool[0][0]                \n",
      "__________________________________________________________________________________________________\n",
      "Block_3_Branch_1_bn (BatchNorma (None, 56, 56, 96)   288         Block_3_Branch_1_conv[0][0]      \n",
      "__________________________________________________________________________________________________\n",
      "Block_3_Branch_2_bn (BatchNorma (None, 56, 56, 16)   48          Block_3_Branch_2_conv[0][0]      \n",
      "__________________________________________________________________________________________________\n",
      "Block_3_Branch_1_act (Activatio (None, 56, 56, 96)   0           Block_3_Branch_1_bn[0][0]        \n",
      "__________________________________________________________________________________________________\n",
      "Block_3_Branch_2_act (Activatio (None, 56, 56, 16)   0           Block_3_Branch_2_bn[0][0]        \n",
      "__________________________________________________________________________________________________\n",
      "Block_3_Branch_3 (MaxPooling2D) (None, 56, 56, 128)  0           block2_pool[0][0]                \n",
      "__________________________________________________________________________________________________\n",
      "Block_3_Branch_0_conv (Conv2D)  (None, 56, 56, 64)   8192        block2_pool[0][0]                \n",
      "__________________________________________________________________________________________________\n",
      "Block_3_Branch_1_1_conv (Conv2D (None, 56, 56, 128)  110592      Block_3_Branch_1_act[0][0]       \n",
      "__________________________________________________________________________________________________\n",
      "Block_3_Branch_2_1_conv (Conv2D (None, 56, 56, 32)   12800       Block_3_Branch_2_act[0][0]       \n",
      "__________________________________________________________________________________________________\n",
      "Block_3_Branch_3_1_conv (Conv2D (None, 56, 56, 32)   4096        Block_3_Branch_3[0][0]           \n",
      "__________________________________________________________________________________________________\n",
      "Block_3_Branch_0_bn (BatchNorma (None, 56, 56, 64)   192         Block_3_Branch_0_conv[0][0]      \n",
      "__________________________________________________________________________________________________\n",
      "Block_3_Branch_1_1_bn (BatchNor (None, 56, 56, 128)  384         Block_3_Branch_1_1_conv[0][0]    \n",
      "__________________________________________________________________________________________________\n",
      "Block_3_Branch_2_1_bn (BatchNor (None, 56, 56, 32)   96          Block_3_Branch_2_1_conv[0][0]    \n",
      "__________________________________________________________________________________________________\n",
      "Block_3_Branch_3_1_bn (BatchNor (None, 56, 56, 32)   96          Block_3_Branch_3_1_conv[0][0]    \n",
      "__________________________________________________________________________________________________\n",
      "Block_3_Branch_0_act (Activatio (None, 56, 56, 64)   0           Block_3_Branch_0_bn[0][0]        \n",
      "__________________________________________________________________________________________________\n",
      "Block_3_Branch_1_1_act (Activat (None, 56, 56, 128)  0           Block_3_Branch_1_1_bn[0][0]      \n",
      "__________________________________________________________________________________________________\n",
      "Block_3_Branch_2_1_act (Activat (None, 56, 56, 32)   0           Block_3_Branch_2_1_bn[0][0]      \n",
      "__________________________________________________________________________________________________\n",
      "Block_3_Branch_3_1_act (Activat (None, 56, 56, 32)   0           Block_3_Branch_3_1_bn[0][0]      \n",
      "__________________________________________________________________________________________________\n",
      "Block_3_Concatenated (Concatena (None, 56, 56, 256)  0           Block_3_Branch_0_act[0][0]       \n",
      "                                                                 Block_3_Branch_1_1_act[0][0]     \n",
      "                                                                 Block_3_Branch_2_1_act[0][0]     \n",
      "                                                                 Block_3_Branch_3_1_act[0][0]     \n",
      "__________________________________________________________________________________________________\n",
      "block4_conv1 (Conv2D)           (None, 56, 56, 512)  1180160     Block_3_Concatenated[0][0]       \n",
      "__________________________________________________________________________________________________\n",
      "block4_conv2 (Conv2D)           (None, 56, 56, 512)  2359808     block4_conv1[0][0]               \n",
      "__________________________________________________________________________________________________\n",
      "block4_conv3 (Conv2D)           (None, 56, 56, 512)  2359808     block4_conv2[0][0]               \n",
      "__________________________________________________________________________________________________\n",
      "block4_pool (MaxPooling2D)      (None, 28, 28, 512)  0           block4_conv3[0][0]               \n",
      "__________________________________________________________________________________________________\n",
      "Block_5_Branch_1_conv (Conv2D)  (None, 28, 28, 96)   49152       block4_pool[0][0]                \n",
      "__________________________________________________________________________________________________\n",
      "Block_5_Branch_2_conv (Conv2D)  (None, 28, 28, 16)   8192        block4_pool[0][0]                \n",
      "__________________________________________________________________________________________________\n",
      "Block_5_Branch_1_bn (BatchNorma (None, 28, 28, 96)   288         Block_5_Branch_1_conv[0][0]      \n",
      "__________________________________________________________________________________________________\n",
      "Block_5_Branch_2_bn (BatchNorma (None, 28, 28, 16)   48          Block_5_Branch_2_conv[0][0]      \n",
      "__________________________________________________________________________________________________\n",
      "Block_5_Branch_1_act (Activatio (None, 28, 28, 96)   0           Block_5_Branch_1_bn[0][0]        \n",
      "__________________________________________________________________________________________________\n",
      "Block_5_Branch_2_act (Activatio (None, 28, 28, 16)   0           Block_5_Branch_2_bn[0][0]        \n",
      "__________________________________________________________________________________________________\n",
      "Block_5_Branch_1_1_conv (Conv2D (None, 28, 28, 128)  36864       Block_5_Branch_1_act[0][0]       \n",
      "__________________________________________________________________________________________________\n",
      "Block_5_Branch_2_1_conv (Conv2D (None, 28, 28, 32)   1536        Block_5_Branch_2_act[0][0]       \n",
      "__________________________________________________________________________________________________\n",
      "Block_5_Branch_1_1_bn (BatchNor (None, 28, 28, 128)  384         Block_5_Branch_1_1_conv[0][0]    \n",
      "__________________________________________________________________________________________________\n",
      "Block_5_Branch_2_1_bn (BatchNor (None, 28, 28, 32)   96          Block_5_Branch_2_1_conv[0][0]    \n",
      "__________________________________________________________________________________________________\n",
      "Block_5_Branch_1_1_act (Activat (None, 28, 28, 128)  0           Block_5_Branch_1_1_bn[0][0]      \n",
      "__________________________________________________________________________________________________\n",
      "Block_5_Branch_2_1_act (Activat (None, 28, 28, 32)   0           Block_5_Branch_2_1_bn[0][0]      \n",
      "__________________________________________________________________________________________________\n",
      "Block_5_Branch_3 (MaxPooling2D) (None, 28, 28, 512)  0           block4_pool[0][0]                \n",
      "__________________________________________________________________________________________________\n",
      "Block_5_Branch_0_conv (Conv2D)  (None, 28, 28, 64)   32768       block4_pool[0][0]                \n",
      "__________________________________________________________________________________________________\n",
      "Block_5_Branch_1_2_conv (Conv2D (None, 28, 28, 128)  49152       Block_5_Branch_1_1_act[0][0]     \n",
      "__________________________________________________________________________________________________\n",
      "Block_5_Branch_2_2_conv (Conv2D (None, 28, 28, 32)   3072        Block_5_Branch_2_1_act[0][0]     \n",
      "__________________________________________________________________________________________________\n",
      "Block_5_Branch_3_1_conv (Conv2D (None, 28, 28, 32)   16384       Block_5_Branch_3[0][0]           \n",
      "__________________________________________________________________________________________________\n",
      "Block_5_Branch_0_bn (BatchNorma (None, 28, 28, 64)   192         Block_5_Branch_0_conv[0][0]      \n",
      "__________________________________________________________________________________________________\n",
      "Block_5_Branch_1_2_bn (BatchNor (None, 28, 28, 128)  384         Block_5_Branch_1_2_conv[0][0]    \n",
      "__________________________________________________________________________________________________\n",
      "Block_5_Branch_2_2_bn (BatchNor (None, 28, 28, 32)   96          Block_5_Branch_2_2_conv[0][0]    \n",
      "__________________________________________________________________________________________________\n",
      "Block_5_Branch_3_1_bn (BatchNor (None, 28, 28, 32)   96          Block_5_Branch_3_1_conv[0][0]    \n",
      "__________________________________________________________________________________________________\n",
      "Block_5_Branch_0_act (Activatio (None, 28, 28, 64)   0           Block_5_Branch_0_bn[0][0]        \n",
      "__________________________________________________________________________________________________\n",
      "Block_5_Branch_1_2_act (Activat (None, 28, 28, 128)  0           Block_5_Branch_1_2_bn[0][0]      \n",
      "__________________________________________________________________________________________________\n",
      "Block_5_Branch_2_2_act (Activat (None, 28, 28, 32)   0           Block_5_Branch_2_2_bn[0][0]      \n",
      "__________________________________________________________________________________________________\n",
      "Block_5_Branch_3_1_act (Activat (None, 28, 28, 32)   0           Block_5_Branch_3_1_bn[0][0]      \n",
      "__________________________________________________________________________________________________\n",
      "Block_5_Concatenated (Concatena (None, 28, 28, 256)  0           Block_5_Branch_0_act[0][0]       \n",
      "                                                                 Block_5_Branch_1_2_act[0][0]     \n",
      "                                                                 Block_5_Branch_2_2_act[0][0]     \n",
      "                                                                 Block_5_Branch_3_1_act[0][0]     \n",
      "__________________________________________________________________________________________________\n",
      "global_max_pooling2d_1 (GlobalM (None, 256)          0           Block_5_Concatenated[0][0]       \n",
      "==================================================================================================\n",
      "Total params: 6,508,608\n",
      "Trainable params: 6,506,816\n",
      "Non-trainable params: 1,792\n",
      "__________________________________________________________________________________________________\n"
     ]
    }
   ],
   "source": [
    "#model.summary()"
   ]
  },
  {
   "cell_type": "code",
   "execution_count": null,
   "metadata": {},
   "outputs": [],
   "source": []
  }
 ],
 "metadata": {
  "kernelspec": {
   "display_name": "Python 3",
   "language": "python",
   "name": "python3"
  },
  "language_info": {
   "codemirror_mode": {
    "name": "ipython",
    "version": 3
   },
   "file_extension": ".py",
   "mimetype": "text/x-python",
   "name": "python",
   "nbconvert_exporter": "python",
   "pygments_lexer": "ipython3",
   "version": "3.6.7"
  }
 },
 "nbformat": 4,
 "nbformat_minor": 2
}
