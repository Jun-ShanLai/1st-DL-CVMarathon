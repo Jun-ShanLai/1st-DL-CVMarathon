{
 "cells": [
  {
   "cell_type": "markdown",
   "metadata": {
    "colab_type": "text",
    "id": "Bu7RSyCqYdBS"
   },
   "source": [
    "## YOLO 細節理解 - 網路輸出的後處理    \n",
    "今天的課程，我們說明了NMS在yolo中運作的情形:\n",
    "* NMS在YOLO的實際運作以每一個類別為主，各別執行NMS。     \n",
    "* YOLO 在NMS中採用的信心度為「每個 bbox 包含各類別的信心度」      \n"
   ]
  },
  {
   "cell_type": "markdown",
   "metadata": {
    "colab_type": "text",
    "id": "Z9YHBcEGYdBV"
   },
   "source": [
    "### 作業\n",
    "在NMS流程中，IoU重疊率參數(nms_threshold )調高，試著思考一下輸出的預測框會有甚麼變化?\n",
    "Hint: 可以回頭看今天介紹的內容，思考輸出的預測框變多或變少?\n"
   ]
  },
  {
   "cell_type": "markdown",
   "metadata": {
    "colab": {
     "base_uri": "https://localhost:8080/",
     "height": 34
    },
    "colab_type": "code",
    "executionInfo": {
     "elapsed": 1558,
     "status": "ok",
     "timestamp": 1578021044012,
     "user": {
      "displayName": "Mora chen",
      "photoUrl": "https://lh3.googleusercontent.com/a-/AAuE7mB40f7sDArbZ5_DYq02nNcnLD0Ryaf7AhsASSQeLQ=s64",
      "userId": "03171203089166907199"
     },
     "user_tz": -480
    },
    "id": "yz28_IgkYdBW",
    "outputId": "a12f486c-18b3-4fb5-d06c-f162aebd9444"
   },
   "source": [
    "#### Ans：IoU越大，越有可能是false positive。當其他預測框與選定預測框重疊率(IoU)大於⼀定值(nms_threshold)時，將此輸出的預測框移除。所以輸出的預測框變多。"
   ]
  },
  {
   "cell_type": "markdown",
   "metadata": {},
   "source": [
    "### IoU threshold = 0.4"
   ]
  },
  {
   "cell_type": "code",
   "execution_count": 2,
   "metadata": {},
   "outputs": [
    {
     "data": {
      "text/plain": [
       "-1"
      ]
     },
     "execution_count": 2,
     "metadata": {},
     "output_type": "execute_result"
    }
   ],
   "source": [
    "import cv2\n",
    "import numpy as np\n",
    "\n",
    "\n",
    "def nms(bounding_boxes, confidence_score, threshold):\n",
    "    # If no bounding boxes, return empty list\n",
    "    if len(bounding_boxes) == 0:\n",
    "        return [], []\n",
    "\n",
    "    # Bounding boxes\n",
    "    boxes = np.array(bounding_boxes)\n",
    "\n",
    "    # coordinates of bounding boxes\n",
    "    start_x = boxes[:, 0]\n",
    "    start_y = boxes[:, 1]\n",
    "    end_x = boxes[:, 2]\n",
    "    end_y = boxes[:, 3]\n",
    "\n",
    "    # Confidence scores of bounding boxes\n",
    "    score = np.array(confidence_score)\n",
    "\n",
    "    # Picked bounding boxes\n",
    "    picked_boxes = []\n",
    "    picked_score = []\n",
    "\n",
    "    # Compute areas of bounding boxes\n",
    "    areas = (end_x - start_x + 1) * (end_y - start_y + 1)\n",
    "\n",
    "    # Sort by confidence score of bounding boxes\n",
    "    order = np.argsort(score)\n",
    "\n",
    "    # Iterate bounding boxes\n",
    "    while order.size > 0:\n",
    "        # The index of largest confidence score\n",
    "        index = order[-1]\n",
    "\n",
    "        # Pick the bounding box with largest confidence score\n",
    "        picked_boxes.append(bounding_boxes[index])\n",
    "        picked_score.append(confidence_score[index])\n",
    "\n",
    "        # Compute ordinates of intersection-over-union(IOU)\n",
    "        x1 = np.maximum(start_x[index], start_x[order[:-1]])\n",
    "        x2 = np.minimum(end_x[index], end_x[order[:-1]])\n",
    "        y1 = np.maximum(start_y[index], start_y[order[:-1]])\n",
    "        y2 = np.minimum(end_y[index], end_y[order[:-1]])\n",
    "\n",
    "        # Compute areas of intersection-over-union\n",
    "        w = np.maximum(0.0, x2 - x1 + 1)\n",
    "        h = np.maximum(0.0, y2 - y1 + 1)\n",
    "        intersection = w * h\n",
    "\n",
    "        # Compute the ratio between intersection and union\n",
    "        ratio = intersection / (areas[index] + areas[order[:-1]] - intersection)\n",
    "\n",
    "        left = np.where(ratio < threshold)\n",
    "        order = order[left]\n",
    "\n",
    "    return picked_boxes, picked_score\n",
    "\n",
    "\n",
    "# Image name\n",
    "image_name = '../data/nms.jpg'\n",
    "\n",
    "# Bounding boxes\n",
    "bounding_boxes = [(187, 82, 337, 317), (150, 67, 305, 282), (246, 121, 368, 304)]\n",
    "confidence_score = [0.9, 0.75, 0.8]\n",
    "\n",
    "# Read image\n",
    "image = cv2.imread(image_name)\n",
    "\n",
    "# Copy image as original\n",
    "org = image.copy()\n",
    "\n",
    "# Draw parameters\n",
    "font = cv2.FONT_HERSHEY_SIMPLEX\n",
    "font_scale = 1\n",
    "thickness = 2\n",
    "\n",
    "# IoU threshold\n",
    "threshold = 0.4\n",
    "\n",
    "# Draw bounding boxes and confidence score\n",
    "for (start_x, start_y, end_x, end_y), confidence in zip(bounding_boxes, confidence_score):\n",
    "    (w, h), baseline = cv2.getTextSize(str(confidence), font, font_scale, thickness)\n",
    "    cv2.rectangle(org, (start_x, start_y - (2 * baseline + 5)), (start_x + w, start_y), (0, 255, 255), -1)\n",
    "    cv2.rectangle(org, (start_x, start_y), (end_x, end_y), (0, 255, 255), 2)\n",
    "    cv2.putText(org, str(confidence), (start_x, start_y), font, font_scale, (0, 0, 0), thickness)\n",
    "\n",
    "# Run non-max suppression algorithm\n",
    "picked_boxes, picked_score = nms(bounding_boxes, confidence_score, threshold)\n",
    "\n",
    "# Draw bounding boxes and confidence score after non-maximum supression\n",
    "for (start_x, start_y, end_x, end_y), confidence in zip(picked_boxes, picked_score):\n",
    "    (w, h), baseline = cv2.getTextSize(str(confidence), font, font_scale, thickness)\n",
    "    cv2.rectangle(image, (start_x, start_y - (2 * baseline + 5)), (start_x + w, start_y), (0, 255, 255), -1)\n",
    "    cv2.rectangle(image, (start_x, start_y), (end_x, end_y), (0, 255, 255), 2)\n",
    "    cv2.putText(image, str(confidence), (start_x, start_y), font, font_scale, (0, 0, 0), thickness)\n",
    "\n",
    "# Show image\n",
    "cv2.imshow('Original', org)\n",
    "cv2.imshow('NMS=0.4', image)\n",
    "cv2.waitKey(0)"
   ]
  },
  {
   "cell_type": "markdown",
   "metadata": {},
   "source": [
    "### IoU threshold = 0.6"
   ]
  },
  {
   "cell_type": "code",
   "execution_count": 3,
   "metadata": {},
   "outputs": [
    {
     "data": {
      "text/plain": [
       "-1"
      ]
     },
     "execution_count": 3,
     "metadata": {},
     "output_type": "execute_result"
    }
   ],
   "source": [
    "import cv2\n",
    "import numpy as np\n",
    "\n",
    "\n",
    "def nms(bounding_boxes, confidence_score, threshold):\n",
    "    # If no bounding boxes, return empty list\n",
    "    if len(bounding_boxes) == 0:\n",
    "        return [], []\n",
    "\n",
    "    # Bounding boxes\n",
    "    boxes = np.array(bounding_boxes)\n",
    "\n",
    "    # coordinates of bounding boxes\n",
    "    start_x = boxes[:, 0]\n",
    "    start_y = boxes[:, 1]\n",
    "    end_x = boxes[:, 2]\n",
    "    end_y = boxes[:, 3]\n",
    "\n",
    "    # Confidence scores of bounding boxes\n",
    "    score = np.array(confidence_score)\n",
    "\n",
    "    # Picked bounding boxes\n",
    "    picked_boxes = []\n",
    "    picked_score = []\n",
    "\n",
    "    # Compute areas of bounding boxes\n",
    "    areas = (end_x - start_x + 1) * (end_y - start_y + 1)\n",
    "\n",
    "    # Sort by confidence score of bounding boxes\n",
    "    order = np.argsort(score)\n",
    "\n",
    "    # Iterate bounding boxes\n",
    "    while order.size > 0:\n",
    "        # The index of largest confidence score\n",
    "        index = order[-1]\n",
    "\n",
    "        # Pick the bounding box with largest confidence score\n",
    "        picked_boxes.append(bounding_boxes[index])\n",
    "        picked_score.append(confidence_score[index])\n",
    "\n",
    "        # Compute ordinates of intersection-over-union(IOU)\n",
    "        x1 = np.maximum(start_x[index], start_x[order[:-1]])\n",
    "        x2 = np.minimum(end_x[index], end_x[order[:-1]])\n",
    "        y1 = np.maximum(start_y[index], start_y[order[:-1]])\n",
    "        y2 = np.minimum(end_y[index], end_y[order[:-1]])\n",
    "\n",
    "        # Compute areas of intersection-over-union\n",
    "        w = np.maximum(0.0, x2 - x1 + 1)\n",
    "        h = np.maximum(0.0, y2 - y1 + 1)\n",
    "        intersection = w * h\n",
    "\n",
    "        # Compute the ratio between intersection and union\n",
    "        ratio = intersection / (areas[index] + areas[order[:-1]] - intersection)\n",
    "\n",
    "        left = np.where(ratio < threshold)\n",
    "        order = order[left]\n",
    "\n",
    "    return picked_boxes, picked_score\n",
    "\n",
    "\n",
    "# Image name\n",
    "image_name = '../data/nms.jpg'\n",
    "\n",
    "# Bounding boxes\n",
    "bounding_boxes = [(187, 82, 337, 317), (150, 67, 305, 282), (246, 121, 368, 304)]\n",
    "confidence_score = [0.9, 0.75, 0.8]\n",
    "\n",
    "# Read image\n",
    "image = cv2.imread(image_name)\n",
    "\n",
    "# Copy image as original\n",
    "org = image.copy()\n",
    "\n",
    "# Draw parameters\n",
    "font = cv2.FONT_HERSHEY_SIMPLEX\n",
    "font_scale = 1\n",
    "thickness = 2\n",
    "\n",
    "# IoU threshold\n",
    "threshold = 0.6\n",
    "\n",
    "# Draw bounding boxes and confidence score\n",
    "for (start_x, start_y, end_x, end_y), confidence in zip(bounding_boxes, confidence_score):\n",
    "    (w, h), baseline = cv2.getTextSize(str(confidence), font, font_scale, thickness)\n",
    "    cv2.rectangle(org, (start_x, start_y - (2 * baseline + 5)), (start_x + w, start_y), (0, 255, 255), -1)\n",
    "    cv2.rectangle(org, (start_x, start_y), (end_x, end_y), (0, 255, 255), 2)\n",
    "    cv2.putText(org, str(confidence), (start_x, start_y), font, font_scale, (0, 0, 0), thickness)\n",
    "\n",
    "# Run non-max suppression algorithm\n",
    "picked_boxes, picked_score = nms(bounding_boxes, confidence_score, threshold)\n",
    "\n",
    "# Draw bounding boxes and confidence score after non-maximum supression\n",
    "for (start_x, start_y, end_x, end_y), confidence in zip(picked_boxes, picked_score):\n",
    "    (w, h), baseline = cv2.getTextSize(str(confidence), font, font_scale, thickness)\n",
    "    cv2.rectangle(image, (start_x, start_y - (2 * baseline + 5)), (start_x + w, start_y), (0, 255, 255), -1)\n",
    "    cv2.rectangle(image, (start_x, start_y), (end_x, end_y), (0, 255, 255), 2)\n",
    "    cv2.putText(image, str(confidence), (start_x, start_y), font, font_scale, (0, 0, 0), thickness)\n",
    "\n",
    "# Show image\n",
    "cv2.imshow('Original', org)\n",
    "cv2.imshow('NMS=0.6', image)\n",
    "cv2.waitKey(0)"
   ]
  },
  {
   "cell_type": "code",
   "execution_count": null,
   "metadata": {},
   "outputs": [],
   "source": []
  }
 ],
 "metadata": {
  "colab": {
   "name": "Day33.YOLO 細節理解 - 網路輸出的後處理_HW.ipynb",
   "provenance": []
  },
  "kernelspec": {
   "display_name": "Python 3",
   "language": "python",
   "name": "python3"
  },
  "language_info": {
   "codemirror_mode": {
    "name": "ipython",
    "version": 3
   },
   "file_extension": ".py",
   "mimetype": "text/x-python",
   "name": "python",
   "nbconvert_exporter": "python",
   "pygments_lexer": "ipython3",
   "version": "3.6.7"
  }
 },
 "nbformat": 4,
 "nbformat_minor": 1
}
